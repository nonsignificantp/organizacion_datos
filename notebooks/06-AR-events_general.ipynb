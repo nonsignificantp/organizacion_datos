{
 "cells": [
  {
   "cell_type": "code",
   "execution_count": 19,
   "metadata": {},
   "outputs": [],
   "source": [
    "import missingno\n",
    "import pandas as pd\n",
    "import matplotlib.pyplot as plt\n",
    "\n",
    "from pathlib import Path\n"
   ]
  },
  {
   "cell_type": "code",
   "execution_count": 6,
   "metadata": {},
   "outputs": [
    {
     "name": "stderr",
     "output_type": "stream",
     "text": [
      "F:\\miniconda\\envs\\odd\\lib\\site-packages\\IPython\\core\\interactiveshell.py:3049: DtypeWarning: Columns (12,18,19) have mixed types. Specify dtype option on import or set low_memory=False.\n",
      "  interactivity=interactivity, compiler=compiler, result=result)\n"
     ]
    }
   ],
   "source": [
    "data = Path('../data/raw/events.csv.gzip')\n",
    "events = pd.read_csv(data, compression='gzip', parse_dates=['date'])"
   ]
  },
  {
   "cell_type": "code",
   "execution_count": 8,
   "metadata": {},
   "outputs": [
    {
     "data": {
      "text/plain": [
       "Index(['date', 'event_id', 'ref_type', 'ref_hash', 'application_id',\n",
       "       'attributed', 'device_countrycode', 'device_os_version', 'device_brand',\n",
       "       'device_model', 'device_city', 'session_user_agent', 'trans_id',\n",
       "       'user_agent', 'event_uuid', 'carrier', 'kind', 'device_os', 'wifi',\n",
       "       'connection_type', 'ip_address', 'device_language'],\n",
       "      dtype='object')"
      ]
     },
     "execution_count": 8,
     "metadata": {},
     "output_type": "execute_result"
    }
   ],
   "source": [
    "events.columns"
   ]
  },
  {
   "cell_type": "code",
   "execution_count": 9,
   "metadata": {},
   "outputs": [],
   "source": [
    "events = events.assign(date = lambda df: df.date.dt.floor('h').dt.tz_localize('UTC').dt.tz_convert('America/Montevideo'))"
   ]
  },
  {
   "cell_type": "code",
   "execution_count": 11,
   "metadata": {},
   "outputs": [
    {
     "data": {
      "text/plain": [
       "(2494423, 22)"
      ]
     },
     "execution_count": 11,
     "metadata": {},
     "output_type": "execute_result"
    }
   ],
   "source": [
    "events.shape"
   ]
  },
  {
   "cell_type": "code",
   "execution_count": 14,
   "metadata": {},
   "outputs": [
    {
     "data": {
      "text/plain": [
       "54877306"
      ]
     },
     "execution_count": 14,
     "metadata": {},
     "output_type": "execute_result"
    }
   ],
   "source": [
    "2494423 * 22"
   ]
  },
  {
   "cell_type": "code",
   "execution_count": 13,
   "metadata": {},
   "outputs": [
    {
     "data": {
      "text/plain": [
       "date                  0.000000\n",
       "event_id              0.000000\n",
       "ref_type              0.000000\n",
       "ref_hash              0.000000\n",
       "application_id        0.000000\n",
       "attributed            0.000000\n",
       "device_countrycode    0.000000\n",
       "device_os_version     0.590260\n",
       "device_brand          0.532973\n",
       "device_model          0.035265\n",
       "device_city           0.753571\n",
       "session_user_agent    0.004725\n",
       "trans_id              0.999967\n",
       "user_agent            0.442145\n",
       "event_uuid            0.002044\n",
       "carrier               0.752875\n",
       "kind                  0.002044\n",
       "device_os             0.736345\n",
       "wifi                  0.447218\n",
       "connection_type       0.754467\n",
       "ip_address            0.000000\n",
       "device_language       0.035206\n",
       "dtype: float64"
      ]
     },
     "execution_count": 13,
     "metadata": {},
     "output_type": "execute_result"
    }
   ],
   "source": [
    "events.isna().sum() / 2494423"
   ]
  },
  {
   "cell_type": "code",
   "execution_count": null,
   "metadata": {},
   "outputs": [],
   "source": [
    "device_os_version, device_city, trans_id, user_agent, device_brand, carrier, device_os, connection_type"
   ]
  },
  {
   "cell_type": "code",
   "execution_count": 15,
   "metadata": {},
   "outputs": [
    {
     "data": {
      "text/plain": [
       "date                      216\n",
       "event_id                  568\n",
       "ref_type                    2\n",
       "ref_hash               196049\n",
       "application_id            269\n",
       "attributed                  2\n",
       "device_countrycode          1\n",
       "device_os_version          81\n",
       "device_brand              250\n",
       "device_model             2624\n",
       "device_city               127\n",
       "session_user_agent       1460\n",
       "trans_id                   13\n",
       "user_agent               5111\n",
       "event_uuid            2489324\n",
       "carrier                    84\n",
       "kind                      583\n",
       "device_os                   4\n",
       "wifi                        2\n",
       "connection_type             3\n",
       "ip_address             285212\n",
       "device_language           186\n",
       "dtype: int64"
      ]
     },
     "execution_count": 15,
     "metadata": {},
     "output_type": "execute_result"
    }
   ],
   "source": [
    "events.apply(lambda x: x.nunique())"
   ]
  },
  {
   "cell_type": "code",
   "execution_count": 20,
   "metadata": {},
   "outputs": [
    {
     "data": {
      "image/png": "[encoded data removed]",
      "text/plain": [
       "<Figure size 1800x720 with 1 Axes>"
      ]
     },
     "metadata": {
      "needs_background": "light"
     },
     "output_type": "display_data"
    }
   ],
   "source": [
    "missingno.matrix(events, sparkline=False)\n",
    "plt.savefig('../assets/events_missingno.png', bbox_inches='tight')"
   ]
  },
  {
   "cell_type": "code",
   "execution_count": 22,
   "metadata": {},
   "outputs": [
    {
     "data": {
      "text/plain": [
       "array([6333597102633388268], dtype=int64)"
      ]
     },
     "execution_count": 22,
     "metadata": {},
     "output_type": "execute_result"
    }
   ],
   "source": [
    "events.device_countrycode.unique()"
   ]
  },
  {
   "cell_type": "code",
   "execution_count": 23,
   "metadata": {},
   "outputs": [
    {
     "data": {
      "text/plain": [
       "count                       2494423\n",
       "unique                          216\n",
       "top       2019-03-07 21:00:00-03:00\n",
       "freq                          27825\n",
       "first     2019-03-04 21:00:00-03:00\n",
       "last      2019-03-13 20:00:00-03:00\n",
       "Name: date, dtype: object"
      ]
     },
     "execution_count": 23,
     "metadata": {},
     "output_type": "execute_result"
    }
   ],
   "source": [
    "events.date.describe()"
   ]
  },
  {
   "cell_type": "code",
   "execution_count": 24,
   "metadata": {},
   "outputs": [
    {
     "data": {
      "text/plain": [
       "date\n",
       "2019-03-04     46898\n",
       "2019-03-05    241672\n",
       "2019-03-06    253172\n",
       "2019-03-07    270073\n",
       "2019-03-08    277004\n",
       "2019-03-09    288378\n",
       "2019-03-10    286213\n",
       "2019-03-11    268453\n",
       "2019-03-12    299502\n",
       "2019-03-13    263058\n",
       "dtype: int64"
      ]
     },
     "execution_count": 24,
     "metadata": {},
     "output_type": "execute_result"
    }
   ],
   "source": [
    "events.groupby(events.date.dt.date).size()"
   ]
  },
  {
   "cell_type": "code",
   "execution_count": 25,
   "metadata": {},
   "outputs": [
    {
     "data": {
      "text/plain": [
       "22     618228\n",
       "31     417070\n",
       "161    217846\n",
       "1      157812\n",
       "138    100039\n",
       "162     84898\n",
       "329     56490\n",
       "156     53332\n",
       "33      48581\n",
       "171     43942\n",
       "310     42101\n",
       "155     38465\n",
       "273     37056\n",
       "23      35588\n",
       "21      26228\n",
       "98      24301\n",
       "158     23738\n",
       "272     22788\n",
       "80      22076\n",
       "50      20905\n",
       "81      18622\n",
       "346     14408\n",
       "58      13940\n",
       "51      13455\n",
       "513     12682\n",
       "354     11711\n",
       "133     11074\n",
       "256     10939\n",
       "274     10035\n",
       "60       9456\n",
       "        ...  \n",
       "500         1\n",
       "511         1\n",
       "532         1\n",
       "516         1\n",
       "132         1\n",
       "520         1\n",
       "521         1\n",
       "523         1\n",
       "575         1\n",
       "577         1\n",
       "578         1\n",
       "579         1\n",
       "608         1\n",
       "433         1\n",
       "597         1\n",
       "436         1\n",
       "589         1\n",
       "588         1\n",
       "587         1\n",
       "586         1\n",
       "585         1\n",
       "140         1\n",
       "583         1\n",
       "581         1\n",
       "580         1\n",
       "437         1\n",
       "443         1\n",
       "227         1\n",
       "226         1\n",
       "584         1\n",
       "Name: event_id, Length: 568, dtype: int64"
      ]
     },
     "execution_count": 25,
     "metadata": {},
     "output_type": "execute_result"
    }
   ],
   "source": [
    "events.event_id.value_counts()"
   ]
  },
  {
   "cell_type": "code",
   "execution_count": 28,
   "metadata": {},
   "outputs": [
    {
     "data": {
      "text/plain": [
       "930902"
      ]
     },
     "execution_count": 28,
     "metadata": {},
     "output_type": "execute_result"
    }
   ],
   "source": [
    "events.wifi.sum()"
   ]
  },
  {
   "cell_type": "code",
   "execution_count": 29,
   "metadata": {},
   "outputs": [
    {
     "data": {
      "text/plain": [
       "1378872"
      ]
     },
     "execution_count": 29,
     "metadata": {},
     "output_type": "execute_result"
    }
   ],
   "source": [
    "events.wifi.count()"
   ]
  },
  {
   "cell_type": "code",
   "execution_count": 31,
   "metadata": {},
   "outputs": [
    {
     "data": {
      "text/plain": [
       "(2494423,)"
      ]
     },
     "execution_count": 31,
     "metadata": {},
     "output_type": "execute_result"
    }
   ],
   "source": [
    "events.wifi.shape"
   ]
  },
  {
   "cell_type": "code",
   "execution_count": null,
   "metadata": {},
   "outputs": [],
   "source": []
  }
 ],
 "metadata": {
  "kernelspec": {
   "display_name": "Python [conda env:odd]",
   "language": "python",
   "name": "conda-env-odd-py"
  },
  "language_info": {
   "codemirror_mode": {
    "name": "ipython",
    "version": 3
   },
   "file_extension": ".py",
   "mimetype": "text/x-python",
   "name": "python",
   "nbconvert_exporter": "python",
   "pygments_lexer": "ipython3",
   "version": "3.7.1"
  }
 },
 "nbformat": 4,
 "nbformat_minor": 2
}
